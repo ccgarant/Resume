{
 "cells": [
  {
   "cell_type": "markdown",
   "metadata": {
    "extensions": {
     "jupyter_dashboards": {
      "version": 1,
      "views": {
       "grid_default": {
        "hidden": true
       },
       "report_default": {
        "hidden": true
       }
      }
     }
    }
   },
   "source": [
    "# Christophe C Garant Resume\n",
    "*Updated May 2018*"
   ]
  },
  {
   "cell_type": "markdown",
   "metadata": {},
   "source": [
    "## Highlights\n",
    "\n",
    "> * Hydraulic and multi domain system modeling and simulation in MSC Easy5 and MathWorks Simscape (Simulink physical modeling).\n",
    "> * MATLAB and Python programming and scripting to handle big data analysis and visualization. (python libraries: numpy, matplotlib, pandas, bokeh, dash)\n",
    "> * Mechanism kinematic and dynamic design & modeling.\n",
    "> * Electromechanical actuation and sensor feedback.\n",
    "> * Fly-by-wire mechanical flight (pilot) controls.\n",
    "> * Aerospace defense hydraulic component and system design."
   ]
  },
  {
   "cell_type": "markdown",
   "metadata": {},
   "source": [
    "## Bio\n",
    "\n",
    "> Christophe currently works at Boeing Defense in the Rotorcraft Division as a Mechanical System Design & Analysis Engineer on the V-22 Osprey, a unique fly-by-wire tiltrotor used by the Marines and Air Force.  Christophe has worked in the V-22 Hydraulic and Mechanical Controls Engineering Group for his entire time at Boeing, about 6 years, working on defense aerospace hydraulic systems, and mechanical (pilot) flight controls.\n",
    "\n",
    "> Prior to Boeing, Christophe worked just under 2 years at another defense contractor, General Dynamics Electric Boat in Groton CT, on Nuclear Submarines used by the Navy.\n",
    "\n",
    "> Christophe earned his Master of Engineering at Villanova University with a focus in electromechanical and controls, and earned his BS in Mechanical Engineering at Temple University, graduating Magna Cum Laude.  \n",
    "\n",
    "> Christophe is from Northeast Philadelphia and enjoys playing hockey and learning to code in Python and MATLAB.  Christophe is currently interested in Python and MATLAB coding, Machine and Deep Learning, and Blockchain.\n",
    "\n",
    "> Christophe would like to focus his career going forward on physical system  modeling and simulation, such as in Simscape (Simulink) and Easy5, to enhance capabilities of system design, and component design and integration."
   ]
  },
  {
   "cell_type": "markdown",
   "metadata": {},
   "source": [
    "## Work Experience\n",
    "### [Mechanical System Design & Analysis Engineer](https://jobs.boeing.com/category/mechanical-and-structural-engineering-jobs/185/2639/1), [Boeing Defense, Military Rotorcraft Division](http://www.boeing.com/defense/rotorcraft/)\n",
    "\n",
    "[Ridley Park, PA (Philadelphia Site)](https://goo.gl/maps/8WB71Em3KzG2)"
   ]
  },
  {
   "cell_type": "markdown",
   "metadata": {},
   "source": [
    "**Mechanical System Design & Analysis Engineer**, [V-22 Osprey](http://www.boeing.com/defense/v-22-osprey/index.page), Hydraulics & Mechanical Controls IPT\n",
    "\n",
    "*May 2012 - Present (~6 yrs)*\n",
    "\n",
    "\n",
    "> *Recent work highlights 2017-2018*\n",
    "> - Simulated a V-22 hydraulic subsystem in [MSC Easy5](http://www.mscsoftware.com/product/easy5) as part of a larger multi-domain aero modeling effort to simulate the V-22's response to different refueling scenarios for the [V-22 Aerial Refueling System (VARS)](https://breakingdefense.com/2016/05/v-22-refueling-contract-highlights-close-ties-to-f-35/).\n",
    ">  - Leveraged [MATLAB](https://www.mathworks.com/products/matlab.html) [programming and scripting](https://www.mathworks.com/help/matlab/programming-and-data-types.html) to [handle big data analysis](), [dashboard visualization](https://www.mathworks.com/help/matlab/graphics.html), [file and folder directory management](https://www.mathworks.com/help/matlab/file-operations.html), and automatic [report generation](https://www.mathworks.com/help/rptgen/index.html?searchHighlight=report&s_tid=doc_srchtitle) of more than 30+ cases of large simulation results. [(Source code example here)](https://github.com/ccgarant/big-data-matlab-import-and-plot-workflow).\n",
    "> - Performed research and early specification development as part of a 2017 R&D whitepaper effort to evaluate the feasibility of incorporating new electromechanical actuators for the V-22 platform. \n",
    "> - Released a 17 page modification drawing to upgrade the older aircraft’s cockpit mechanical flight controls configuration as part of the [Common Configuration – Readiness and Modernization (CC-RAM)](https://breakingdefense.com/2018/02/streamlined-mv-22-maintenance-from-70-osprey-types-down-to-5/) effort.\n",
    ">  - Coded a Python script, due to the sheer multitude of parts, to count hardware stack-ups and generate an ordered and counted hardware Parts List. [(Source code example here)](https://github.com/ccgarant/Parts-List-Generator).\n",
    "> - Lead grass roots effort to improve the V-22 flying (handling) qualities by redesigning a lowly, out-of-the-comfort zone, material cyclic stick protective boot cover assembly.\n",
    ">  - Required humble, inglorious grunt work with material flat patterns.\n",
    ">  - Culminated in a forced retrofit to the entire V-22 Fleet.  \n",
    ">  - This simple, lowly change has big impacts by reducing the risk of bad landings in reduced visibility which may [ultimately save lives and loss of aircraft](https://www.marinecorpstimes.com/news/your-marine-corps/2015/11/23/pilot-missteps-brownout-led-to-hawaii-osprey-crash/).\n",
    "> - Lead the design and safety-of-flight qualification effort for new tie rod (linkages) components for the VARS program.\n",
    ">  - Coordinated, created, and released the SOW & Spec, and reviewed the Supplier QTP & QTR."
   ]
  },
  {
   "cell_type": "markdown",
   "metadata": {},
   "source": [
    "> *General*\n",
    "> - Member of the V-22 Hydraulics & Mechanical Controls Engineering group for ~6 years, a group of about ~6 people with a high workload demanding constant priority evaluation, triaging tasks, and working effectively.\n",
    "> - Experience working on defense aerospace and helicopter (tiltrotor) triple redundant hydraulic and cockpit mechanical flight control systems.\n",
    "> - Cognizant engineer for the fly-by-wire cockpit mechanical flight controls system.\n",
    "> - Responsible for source controlled feel and drive electromechanical actuators, sensors, and build-to-print parts such as bellcranks, linkages, and dampers.\n",
    "> - Lead and resolve design issues by collaborating and coordinating with cross-functional IPTs, managing up to the Customer and down to the Suppliers.\n",
    "> - Support, resolve, and disposition production line troubleshooting integration issues and system functional test failures.  \n",
    "> - Support Fleet component failures with multi-tier team to perform failure investigation teardowns to find and incorporate root cause corrective actions.\n",
    "> - Project engineering experience with managing multiple Suppliers of source controlled parts.  Responsibilities range from:\n",
    ">  - Enforcing design spec and SOW requirements\n",
    ">  - Ensuring and coordinating with Supplier Quality\n",
    ">  - Auditing and approving Acceptance Test Procedures (ATPs) & Stands\n",
    ">  - Auditing critical parts manufacturing procedures\n",
    ">  - Evaluating design change requests, and leading design change efforts.\n",
    "> - Daily reading, review, or development of component and system level configuration design including bookform design requirements, assembly, installation, envelope, interface, and detail drawings.\n",
    "> - Knowledge of ASME drawing best practices and standards applied to releasing new monodetail part designs, CAD model reviews, and GD&T dimensioning (ASME Y14.5 GD&T, Y14.24 Drawing Types).\n",
    "> - Drawing release and CAD modeling experience with CATIA & SolidWorks, and Siemens Product Lifecycle Management (PLM) Teamcenter software.\n",
    "> - Extensive experience working with hydraulic rotary variable displacement pumps and bent axis motors\n",
    "Supported at least 3 pump and 5 motor engineering failure investigations\n",
    "> - Extensive experience working with hydraulic rotary variable displacement pumps and bent axis motors\n",
    ">  - Supported at least 3 pump and 5 motor engineering failure investigations\n",
    ">  - Led a year long pump reliability test to duplicate aircraft conditions to support the Fleet Readiness and Reliability for the end customer (Marines, Air Force)."
   ]
  },
  {
   "cell_type": "markdown",
   "metadata": {},
   "source": [
    "### [Mechanical Engineer](https://careers-gd-electricboat.icims.com/jobs/12370/engineer-i-ii/job), [General Dynamics Electric Boat](http://www.gdeb.com/)\n",
    "\n",
    "[(New London, CT)](https://goo.gl/maps/NbKQYRWHNYA2)"
   ]
  },
  {
   "cell_type": "markdown",
   "metadata": {},
   "source": [
    "**Mechanical Engineer**, [Columbia-class Submarine](https://en.wikipedia.org/wiki/Columbia-class_submarine), Ship System Components IPT\n",
    "\n",
    "*July 2010 - May 2012 (~2 yrs)*\n",
    "\n",
    "> - Research and component development of electric actuators for naval nuclear submarine applications. From shipbuilding and subsafe requirements, developed new specifications for electric actuation. Focused on research and understanding of the critical areas of the technology to design specifically for unique, harsh conditions.\n",
    "\n",
    "> - Exposure to all submarine systems, government contracting & supplier management, and systems engineering.\n",
    "\n",
    "> - Further solidified electromechanical background, power systems and electronics, importance of communication and teamwork."
   ]
  },
  {
   "cell_type": "markdown",
   "metadata": {},
   "source": [
    "### [Research Assistant](https://engineering.temple.edu/research/labs-centers#mechanicallabs), [Temple University, College of Engineering](https://engineering.temple.edu/)\n",
    "\n",
    "[(North Philadelphia, PA)](https://goo.gl/maps/44hTr5W7G672)"
   ]
  },
  {
   "cell_type": "markdown",
   "metadata": {},
   "source": [
    "**Research Assistant**, [Composites Laboratory](https://engineering.temple.edu/research/labs-centers#mechanicallabs)\n",
    "\n",
    "*May 2009 - May 2010 (~1 yrs)*\n",
    "\n",
    "\n",
    "> - Researched and Designed a Hybrid Electric Vehicle.\n",
    "\n",
    "> - See website for video and pictures of our project!\n",
    "> - http://audihybrid.blogspot.com/"
   ]
  },
  {
   "cell_type": "markdown",
   "metadata": {},
   "source": [
    "### [Physics and Math Tutor](http://www.temple.edu/class/employment-opportunities/tutoring-positions.asp), [Temple University, Center for Learning and Student Success](http://www.temple.edu/class/index.asp)\n",
    "\n",
    "[(North Philadelphia, PA)](https://goo.gl/maps/44hTr5W7G672)"
   ]
  },
  {
   "cell_type": "markdown",
   "metadata": {},
   "source": [
    "**Physics and Math Tutor**, [Temple University, Center for Learning and Student Success](https://goo.gl/maps/dALBXtDHTT42)\n",
    "\n",
    "*Sept 2007 - May 2009 (~2 yrs)*\n",
    "\n",
    "\n",
    "> - Senior math and physics tutor specializing in Calculus I, II, & III, and Physics I & II, and also relied on for tutoring Differential Equations, Algebra I & II, and Geometry. Depended upon and recognized by the organization as a ‘go-to-guy’ for the most difficult questions. \n",
    "\n",
    "> - Requires an intimate knowledge of the subject and free, unconstrained thinking to answer the most obscure questions and convey the correct concepts effectively.\n",
    "\n",
    "> - Frequently tutored one-on-one and groups of up to 10. Occasionally tutored in halls of up to 60 students.\n",
    "\n",
    "> - Developed an ability to not only communicate in front of groups but also cordially interact with various personalities and resolve any situation in a professional manner."
   ]
  },
  {
   "cell_type": "markdown",
   "metadata": {},
   "source": [
    "## Education"
   ]
  },
  {
   "cell_type": "markdown",
   "metadata": {},
   "source": [
    "**Master of Engineering, Mechanical Engineering**, Villanova University, College of Engineering\n",
    "\n",
    "*2013-2017*\n",
    "> - Certificate in Electromechanical Engineering\n",
    "\n",
    "**BS in Mechanical Engineering**, Temple University, College of Engineering\n",
    "\n",
    "*2006-2010*\n",
    "> - Graduated Magna Cum Laude"
   ]
  },
  {
   "cell_type": "markdown",
   "metadata": {},
   "source": [
    "## Projects"
   ]
  },
  {
   "cell_type": "markdown",
   "metadata": {},
   "source": [
    "### Learning Python\n",
    "\n",
    "*2016+*\n",
    "> Learning:\n",
    "> - Completed Course \n",
    ">   - [Codecademy Learn Python](https://www.codecademy.com/learn/learn-python)\n",
    "> - Read Book and Completed Exercises \n",
    ">   - [Python Crash Course: A Hands-On, Project-Based Introduction to Programming by Eric Matthes](https://www.amazon.com/gp/product/1593276036/ref=oh_aui_search_detailpage?ie=UTF8&psc=1)\n",
    ">   - [Automate the Boring Stuff with Python: Practical Programming for Total Beginners by Al Sweigart](https://www.amazon.com/gp/product/1593275994/ref=oh_aui_search_detailpage?ie=UTF8&psc=1)\n",
    ">   - [Python for Data Analysis: Data Wrangling with Pandas, NumPy, and IPython by Wes McKinney](https://www.amazon.com/Python-Data-Analysis-Wrangling-IPython/dp/1491957662/ref=sr_1_1?ie=UTF8&qid=1527451237&sr=8-1&keywords=pandas)\n",
    "\n",
    "> Projects:\n",
    "> - [Parts List Generator](https://github.com/ccgarant/Parts-List-Generator)"
   ]
  },
  {
   "cell_type": "markdown",
   "metadata": {},
   "source": [
    "### Learning MATLAB & Simulink\n",
    "*2013+*\n",
    "> Learning:\n",
    "> - [Simscape](https://www.mathworks.com/help/physmod/simscape/index.html?s_tid=srchtitle) Model and simulate multidomain physical systems, mainly hydraulics, driveline\n",
    "> - [Programming and Scripting](https://www.mathworks.com/help/matlab/programming-and-data-types.html)\n",
    "> - [Data Import and Analysis](https://www.mathworks.com/help/matlab/data-import-and-analysis.html)\n",
    ">\n",
    "> Projects:\n",
    "> - [Big Data MATLAB Import and Plot Workflow](https://github.com/ccgarant/big-data-matlab-import-and-plot-workflow)"
   ]
  },
  {
   "cell_type": "markdown",
   "metadata": {},
   "source": [
    "### Learning Swift\n",
    "> Learning:\n",
    "> - Completed Courses\n",
    ">   - Watched YouTube Series [Developing Apps for iOS, Standford CS193P](https://www.youtube.com/playlist?list=PLsJq-VuSo2k26duIWzNjXztkZ7VrbppkT)\n",
    ">   - Kindle Basic Training, [Let's Build That App](https://www.letsbuildthatapp.com/basic-training)\n",
    ">   - [Start Developing iOS Apps (Swift), Jump Right In](https://developer.apple.com/library/content/referencelibrary/GettingStarted/DevelopiOSAppsSwift/)"
   ]
  },
  {
   "cell_type": "code",
   "execution_count": null,
   "metadata": {},
   "outputs": [],
   "source": []
  }
 ],
 "metadata": {
  "extensions": {
   "jupyter_dashboards": {
    "activeView": "report_default",
    "version": 1,
    "views": {
     "grid_default": {
      "cellMargin": 10,
      "defaultCellHeight": 20,
      "maxColumns": 12,
      "name": "grid",
      "type": "grid"
     },
     "report_default": {
      "name": "report",
      "type": "report"
     }
    }
   }
  },
  "kernelspec": {
   "display_name": "Python 3",
   "language": "python",
   "name": "python3"
  },
  "language_info": {
   "codemirror_mode": {
    "name": "ipython",
    "version": 3
   },
   "file_extension": ".py",
   "mimetype": "text/x-python",
   "name": "python",
   "nbconvert_exporter": "python",
   "pygments_lexer": "ipython3",
   "version": "3.6.3"
  }
 },
 "nbformat": 4,
 "nbformat_minor": 2
}
